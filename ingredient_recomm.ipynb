{"nbformat":4,"nbformat_minor":0,"metadata":{"colab":{"provenance":[],"authorship_tag":"ABX9TyMUpxcTLpYxyrBsJAnXvpue"},"kernelspec":{"name":"python3","display_name":"Python 3"},"language_info":{"name":"python"}},"cells":[{"cell_type":"markdown","source":["## 프롬프트 엔지니어링"],"metadata":{"id":"7rM544VFykf_"}},{"cell_type":"code","source":["pip install openai pandas"],"metadata":{"colab":{"base_uri":"https://localhost:8080/"},"id":"GlGoUxZIymeA","executionInfo":{"status":"ok","timestamp":1748836753542,"user_tz":-540,"elapsed":3028,"user":{"displayName":"판타지","userId":"00127811177329652612"}},"outputId":"ce4ef4bb-cf53-4458-bc1b-5ecbc69f6143"},"execution_count":null,"outputs":[{"output_type":"stream","name":"stdout","text":["Requirement already satisfied: openai in /usr/local/lib/python3.11/dist-packages (1.81.0)\n","Requirement already satisfied: pandas in /usr/local/lib/python3.11/dist-packages (2.2.2)\n","Requirement already satisfied: anyio<5,>=3.5.0 in /usr/local/lib/python3.11/dist-packages (from openai) (4.9.0)\n","Requirement already satisfied: distro<2,>=1.7.0 in /usr/local/lib/python3.11/dist-packages (from openai) (1.9.0)\n","Requirement already satisfied: httpx<1,>=0.23.0 in /usr/local/lib/python3.11/dist-packages (from openai) (0.28.1)\n","Requirement already satisfied: jiter<1,>=0.4.0 in /usr/local/lib/python3.11/dist-packages (from openai) (0.10.0)\n","Requirement already satisfied: pydantic<3,>=1.9.0 in /usr/local/lib/python3.11/dist-packages (from openai) (2.11.4)\n","Requirement already satisfied: sniffio in /usr/local/lib/python3.11/dist-packages (from openai) (1.3.1)\n","Requirement already satisfied: tqdm>4 in /usr/local/lib/python3.11/dist-packages (from openai) (4.67.1)\n","Requirement already satisfied: typing-extensions<5,>=4.11 in /usr/local/lib/python3.11/dist-packages (from openai) (4.13.2)\n","Requirement already satisfied: numpy>=1.23.2 in /usr/local/lib/python3.11/dist-packages (from pandas) (2.0.2)\n","Requirement already satisfied: python-dateutil>=2.8.2 in /usr/local/lib/python3.11/dist-packages (from pandas) (2.9.0.post0)\n","Requirement already satisfied: pytz>=2020.1 in /usr/local/lib/python3.11/dist-packages (from pandas) (2025.2)\n","Requirement already satisfied: tzdata>=2022.7 in /usr/local/lib/python3.11/dist-packages (from pandas) (2025.2)\n","Requirement already satisfied: idna>=2.8 in /usr/local/lib/python3.11/dist-packages (from anyio<5,>=3.5.0->openai) (3.10)\n","Requirement already satisfied: certifi in /usr/local/lib/python3.11/dist-packages (from httpx<1,>=0.23.0->openai) (2025.4.26)\n","Requirement already satisfied: httpcore==1.* in /usr/local/lib/python3.11/dist-packages (from httpx<1,>=0.23.0->openai) (1.0.9)\n","Requirement already satisfied: h11>=0.16 in /usr/local/lib/python3.11/dist-packages (from httpcore==1.*->httpx<1,>=0.23.0->openai) (0.16.0)\n","Requirement already satisfied: annotated-types>=0.6.0 in /usr/local/lib/python3.11/dist-packages (from pydantic<3,>=1.9.0->openai) (0.7.0)\n","Requirement already satisfied: pydantic-core==2.33.2 in /usr/local/lib/python3.11/dist-packages (from pydantic<3,>=1.9.0->openai) (2.33.2)\n","Requirement already satisfied: typing-inspection>=0.4.0 in /usr/local/lib/python3.11/dist-packages (from pydantic<3,>=1.9.0->openai) (0.4.1)\n","Requirement already satisfied: six>=1.5 in /usr/local/lib/python3.11/dist-packages (from python-dateutil>=2.8.2->pandas) (1.17.0)\n"]}]},{"cell_type":"code","source":["import os\n","import openai\n","import pandas as pd\n","import requests"],"metadata":{"id":"azo9Y7nFyybE"},"execution_count":null,"outputs":[]},{"cell_type":"code","source":["# OpenAI API 키 설정\n","openai.api_key = os.getenv(\"sk-mlFFjm19rWW9jimzajIQLhRxRm9BrK6Qj4uYNSoP500sq3Fu\")"],"metadata":{"id":"VBFrlHkmy3K7"},"execution_count":null,"outputs":[]},{"cell_type":"code","source":["# 소비 내역, 메뉴 선택 데이터 받아오기\n","def fetch_backend_data():\n","    base_url = \"http://3.36.159.65:5000\"\n","\n","    resp_p = requests.get(f\"{base_url}/purchases\")\n","    resp_p.raise_for_status()\n","    purchases = resp_p.json()\n","\n","    resp_m = requests.get(f\"{base_url}/menu_history\")\n","    resp_m.raise_for_status()\n","    menu_history = resp_m.json()\n","\n","    return purchases, menu_history"],"metadata":{"id":"QTBLn2UH0br_"},"execution_count":null,"outputs":[]},{"cell_type":"code","source":["# 프롬프\n","def build_prompt(purchases: list, menu_history: list) -> str:\n","    purchase_lines = []\n","    for p in purchases:\n","        purchase_lines.append(f\"- {p['ingredient']}: 지출 {p['spending']}원\")\n","    purchases_text = \"\\n\".join(purchase_lines)\n","\n","    menu_lines = []\n","    for m in menu_history:\n","        menu_lines.append(\n","            f\"- {m['menu']} (조리횟수 {m['count']}, 지출 {m['spending']}원, 날짜 {m['date']})\"\n","        )\n","    menu_text = \"\\n\".join(menu_lines)\n","\n","    prompt = f\"\"\"\n","아래는 이번 주 사용자가 구매·섭취한 내역입니다.\n","\n","[구매 내역]\n","{purchases_text}\n","\n","[메뉴 선택 내역]\n","{menu_text}\n","\n","위 두 목록만 참고하여\n","1) 이번 주 식단에 어떤 영양소가 부족하거나 과잉되었는지 분석하고,\n","2) 부족한 영양소(예: 식이섬유, 비타민, 미네랄, 오메가-3, 건강한 지방 등)를 보충해 줄 식재료와 그 이유를 추천해 주세요.\n","\n","- 반드시 CSV 형식으로만 응답해 주세요.\n","- 헤더(칼럼)는 `ingredient,reason` 두 개만 사용합니다.\n","- 응답에는 CSV 이외의 설명을 일절 포함하지 마세요.\n","\n","예시 형식:\n","ingredient,reason\n","브로콜리,비타민C·식이섬유가 풍부하여 ...\n","시금치,철분·비타민A가 풍부하여 ...\n","...\n","\"\"\"\n","    return prompt.strip()\n"],"metadata":{"id":"vfx9HV_L1q_9"},"execution_count":null,"outputs":[]},{"cell_type":"code","source":["# OpenAI ChatCompletion API 호출\n","def generate_recommendations_csv(prompt_text: str) -> str:\n","    response = openai.ChatCompletion.create(\n","        model=\"gpt-4o\",\n","        messages=[\n","            {\"role\": \"system\", \"content\": \"당신은 식이영양학에 능통한 영양사 겸 데이터 분석가입니다.\"},\n","            {\"role\": \"user\", \"content\": prompt_text}\n","        ],\n","        temperature=0.0,\n","        max_tokens=800,\n","        n=1\n","    )\n","    return response.choices[0].message.content.strip()"],"metadata":{"id":"nyUpDH_N13wt"},"execution_count":null,"outputs":[]},{"cell_type":"code","source":["if __name__ == \"__main__\":\n","    # 백엔드에서 데이터 가져오기\n","    purchases, menu_history = fetch_backend_data()\n","\n","    prompt_text = build_prompt(purchases, menu_history)\n","\n","    # 3) CSV 문자열 받기\n","    csv_result = generate_recommendations_csv(prompt_text)\n","\n","    # 4) CSV 결과 출력\n","    print(csv_result)\n","\n","    with open(\"recommendations.csv\", \"w\", encoding=\"utf-8-sig\") as f:\n","        f.write(csv_result + \"\\n\")"],"metadata":{"id":"jZ3nFWHcDXnv"},"execution_count":null,"outputs":[]}]}

data = [
    {
        "ingredient": "브로콜리",
        "reason": "비타민C·식이섬유가 풍부하여 고기 중심 식단의 소화 및 면역 보강"
    },
    {
        "ingredient": "시금치",
        "reason": "철분·비타민A가 풍부하여 혈액 순환 촉진 및 항산화 작용"
    },
    {
        "ingredient": "당근",
        "reason": "베타카로틴·비타민A 풍부하여 눈 건강 및 면역력 강화"
    },
    {
        "ingredient": "연어",
        "reason": "오메가-3 지방산이 많아 심혈관 건강 및 염증 완화에 도움"
    },
    {
        "ingredient": "아몬드",
        "reason": "비타민E와 건강한 불포화지방이 풍부하여 콜레스테롤 관리 지원"
    },
    {
        "ingredient": "귀리",
        "reason": "베타글루칸·식이섬유 함량이 높아 장 건강 및 콜레스테롤 저하 도움"
    },
    {
        "ingredient": "그릭요거트",
        "reason": "프로바이오틱스와 단백질 공급으로 장내 유익균 증식 및 단백질 보강"
    },
    {
        "ingredient": "버섯류(표고·양송이 등)",
        "reason": "비타민D 전구체 및 식이섬유 공급으로 면역력 강화"
    },
    {
        "ingredient": "아보카도",
        "reason": "단일불포화지방·미네랄(칼륨 등) 공급으로 혈압 관리 및 항산화"
    },
]
